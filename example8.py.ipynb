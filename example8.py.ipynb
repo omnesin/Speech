{
 "cells": [
  {
   "cell_type": "code",
   "execution_count": null,
   "metadata": {},
   "outputs": [],
   "source": [
    "import numpy as np\n",
    "from keras.models import Sequential\n",
    "from keras.layers import Bidirectional, Conv1D, Dense, LSTM, Flatten\n",
    "from keras.callbacks import EarlyStopping, ReduceLROnPlateau\n",
    "\n",
    "trnX = np.load(\"trnX.npy\")\n",
    "trnY = np.load(\"trnY.npy\")\n",
    "valX = np.load(\"valX.npy\")\n",
    "valY = np.load(\"valY.npy\")\n",
    "tstX = np.load(\"tstX.npy\")\n",
    "\n",
    "mu = trnX.mean()\n",
    "sigma = trnX.std()\n",
    "trnX = (trnX - mu) / sigma\n",
    "valX = (valX - mu) / sigma\n",
    "tstX = (tstX - mu) / sigma\n",
    "\n",
    "model = Sequential()\n",
    "model.add(Conv1D(64, 2, padding = \"same\", activation = \"relu\", input_shape = trnX.shape[1:]))\n",
    "model.add(Conv1D(64, 2, padding = \"same\", activation = \"relu\"))\n",
    "model.add(Bidirectional(LSTM(64, dropout = 0.2, recurrent_dropout = 0.2)))\n",
    "model.add(Dense(1, activation = \"sigmoid\"))\n",
    "model.compile(loss = \"binary_crossentropy\", optimizer = \"adam\", metrics = [\"accuracy\"])\n",
    "model.summary()\n",
    "\n",
    "callbacks = [ ReduceLROnPlateau(monitor = \"val_acc\", patience = 5), EarlyStopping(monitor = \"val_acc\", patience = 10, restore_best_weights = True) ]\n",
    "history = model.fit(trnX, trnY, batch_size = 32, epochs = 100, validation_data = (valX, valY), callbacks = callbacks)\n",
    "\n",
    "probabilities = model.predict(tstX)\n",
    "\n",
    "predictions = open(\"predictions.csv\", \"w\")\n",
    "predictions.write(\"id,label\\n\")\n",
    "for i in range(tstX.shape[0]):\n",
    "    if (probabilities[i,0] > 0.5):\n",
    "        predictions.write(str(i).zfill(4) + \",1\\n\")\n",
    "    else:\n",
    "        predictions.write(str(i).zfill(4) + \",0\\n\")\n",
    "predictions.close()"
   ]
  }
 ],
 "metadata": {
  "kernelspec": {
   "display_name": "Python 3",
   "language": "python",
   "name": "python3"
  },
  "language_info": {
   "codemirror_mode": {
    "name": "ipython",
    "version": 3
   },
   "file_extension": ".py",
   "mimetype": "text/x-python",
   "name": "python",
   "nbconvert_exporter": "python",
   "pygments_lexer": "ipython3",
   "version": "3.6.4"
  }
 },
 "nbformat": 4,
 "nbformat_minor": 2
}
