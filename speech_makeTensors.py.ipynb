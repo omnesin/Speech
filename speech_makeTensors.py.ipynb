{
 "cells": [
  {
   "cell_type": "code",
   "execution_count": null,
   "metadata": {},
   "outputs": [],
   "source": [
    "# To install the library for the recognition and organization of speech and audio (librosa):\n",
    "# pip install librosa\n",
    "\n",
    "import librosa\n",
    "import numpy as np\n",
    "\n",
    "def makeTensors(partition, n):\n",
    "    X = np.zeros((n, 32, 20)).astype(\"float32\")\n",
    "    for index in range(n):\n",
    "        timeSeries, samplingRate = librosa.load(partition + \"/\" + str(index).zfill(4) + \".wav\", sr = None)\n",
    "        if (timeSeries.shape[0] < samplingRate):\n",
    "            timeSeries = librosa.effects.time_stretch(timeSeries, rate = 1.0 * timeSeries.shape[0] / samplingRate)\n",
    "        length = timeSeries.shape[0]\n",
    "        if (length > samplingRate):\n",
    "            length = samplingRate\n",
    "        mfcc = librosa.feature.mfcc(y = timeSeries[:length], sr = samplingRate)\n",
    "        X[index,:,:] = np.transpose(mfcc).astype(\"float32\")\n",
    "    np.save(partition + \"X.npy\", X)\n",
    "    if (partition != \"tst\"):\n",
    "        Y = np.zeros(n).astype(\"float32\")\n",
    "        input = open(partition + \".csv\", \"r\")\n",
    "        header = input.readline()\n",
    "        index = 0\n",
    "        for line in input:\n",
    "            value = line.strip(\"\\r\\n\").split(\",\")\n",
    "            if (value[1] == \"1\"):\n",
    "                Y[index] = 1.0\n",
    "            index = index + 1\n",
    "        np.save(partition + \"Y.npy\", Y)\n",
    "\n",
    "makeTensors(\"trn\", 3840)\n",
    "makeTensors(\"val\", 468)\n",
    "makeTensors(\"tst\", 444)"
   ]
  }
 ],
 "metadata": {
  "kernelspec": {
   "display_name": "Python 3",
   "language": "python",
   "name": "python3"
  },
  "language_info": {
   "codemirror_mode": {
    "name": "ipython",
    "version": 3
   },
   "file_extension": ".py",
   "mimetype": "text/x-python",
   "name": "python",
   "nbconvert_exporter": "python",
   "pygments_lexer": "ipython3",
   "version": "3.6.4"
  }
 },
 "nbformat": 4,
 "nbformat_minor": 2
}
